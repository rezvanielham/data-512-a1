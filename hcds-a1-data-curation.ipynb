{
 "cells": [
  {
   "cell_type": "markdown",
   "metadata": {},
   "source": [
    "## Data Curation on English Wikipedia View Metrics\n",
    "\n",
    "The goal of this notebook is to provide reproducable steps into the analysis of view metrics data provided by wikimedia foundation(please see the Licensing details on the repository ReadMe for more details about terms of use).\n",
    "\n",
    "In this analysis we will collect and analyze the monthly traffic metric data in the time window of January 1 2008 through September 30 2017 on English Wikipedia from two different source API servers:\n",
    "\n",
    "- Legacy service a.k.a the legacy Pagecounts API ( [documentation] (https://wikitech.wikimedia.org/wiki/Analytics/AQS/Legacy_Pagecounts), [endpoint] (https://wikimedia.org/api/rest_v1/#!/Pagecounts_data_(legacy)/get_metrics_legacy_pagecounts_aggregate_project_access_site_granularity_start_end)) provides access to desktop and mobile traffic data from January 2008 through July 2016. \n",
    "\n",
    "- Current service a.k.a The Pageviews API ([documentation] (https://wikitech.wikimedia.org/wiki/Analytics/AQS/Pageviews), [endpoint] (https://wikimedia.org/api/rest_v1/#!/Pageviews_data/get_metrics_pageviews_aggregate_project_access_agent_granularity_start_end)) provides access to desktop, mobile web, and mobile app traffic data from July 2015 through September 2017.\n",
    "\n",
    "The following sections will include steps from data-acquisition, processing and finally analysis.\n",
    "\n",
    "\n",
    "### Step I: Data Acquisition\n",
    "\n",
    "In this section we are collecting data from both APIs and saving the results in 5 separate JSON formatted files."
   ]
  },
  {
   "cell_type": "code",
   "execution_count": null,
   "metadata": {},
   "outputs": [],
   "source": [
    "#coding utf-8\n",
    "\n",
    "import requests\n",
    "import json"
   ]
  },
  {
   "cell_type": "markdown",
   "metadata": {},
   "source": [
    "We have introduced dictionaries each including constant values that have been provided in the API documentations of current(coded as 'curr') and legacy(coded as 'legacy') API providers."
   ]
  },
  {
   "cell_type": "code",
   "execution_count": null,
   "metadata": {},
   "outputs": [],
   "source": [
    "# representing our API sources\n",
    "projects = { 'pageCounts': 'legacy', 'pageViews':'curr'}\n",
    "#endpoints of current and legacy API servers\n",
    "endpoint = {\n",
    "    'curr' :'https://wikimedia.org/api/rest_v1/metrics/pageviews/aggregate/{project}/{access}/{agent}/{granularity}/{start}/{end}',\n",
    "    'legacy' : 'https://wikimedia.org/api/rest_v1/metrics/legacy/pagecounts/aggregate/{project}/{access-site}/{granularity}/{start}/{end}'\n",
    "}"
   ]
  },
  {
   "cell_type": "markdown",
   "metadata": {},
   "source": [
    "Each API endpoint can be accessed in multiple ways. In the legacy data, the only distinguished access types were mobile and desktop sites, however after July 2015, in order to distiguish the automated (web-crawler) access from the real-user access mechanisms, the new API provider introduced the 'agent' parameter. Thus by specifying the agent as 'user' we are able to further filter access by users."
   ]
  },
  {
   "cell_type": "code",
   "execution_count": null,
   "metadata": {},
   "outputs": [],
   "source": [
    "#the available access mechanisms \n",
    "access = {\n",
    "    'curr' : {'desktop', 'mobile-app', 'mobile-web'},\n",
    "    'legacy' : {'desktop-site', 'mobile-site'}\n",
    "}\n",
    "\n",
    "date_range = {\n",
    "    'legacy' : { 'start' : '2008010100', 'end' : '2016080100'},\n",
    "    'curr' : { 'start' : '2015070100','end' : '2017120100'}\n",
    "}\n",
    "\n",
    "#page_count_endpoint = ''\n",
    "headers={'User-Agent' : 'https://github.com/rezvanielham', 'From' : 'rezvanil@uw.edu'}"
   ]
  },
  {
   "cell_type": "markdown",
   "metadata": {},
   "source": [
    "The following method constructs a dictionary of parameters based on accesstype, start and end dates and API source.\n",
    "The result of this method will be used to construct the API call URLs "
   ]
  },
  {
   "cell_type": "code",
   "execution_count": null,
   "metadata": {},
   "outputs": [],
   "source": [
    "def get_params(access, start, end, project):\n",
    "\n",
    "    params = dict()\n",
    "\n",
    "    if(project =='curr'):\n",
    "        params['access'] = access\n",
    "        params['agent'] = 'user'\n",
    "    else:\n",
    "        params['access-site'] = access\n",
    "    params['project'] = 'en.wikipedia.org'\n",
    "    params['granularity'] = \"monthly\"\n",
    "    params['start'] = start\n",
    "    params['end'] = end\n",
    "    return params"
   ]
  },
  {
   "cell_type": "markdown",
   "metadata": {},
   "source": [
    "This is a helper method to format the start and end dates from YYYMMDD format to YYYYMM format by eliding the day value.\n",
    "The result of this method is used later in naming the output files"
   ]
  },
  {
   "cell_type": "code",
   "execution_count": null,
   "metadata": {},
   "outputs": [],
   "source": [
    "def get_ym_date(ymd_start, ymd_end):\n",
    "    '''\n",
    "\n",
    "    :param ymd_start: the start date with YYYYMMDD format\n",
    "    :param ymd_end: the end date with YYYYMMDD format\n",
    "    :return: the param dict of start and end dates with YYYYMM format removing the rest of the string\n",
    "    '''\n",
    "    params = dict()\n",
    "    params['ym-start'] = ymd_start[0:6]\n",
    "    params['ym-end'] = ymd_end[0:6]\n",
    "    return params"
   ]
  },
  {
   "cell_type": "markdown",
   "metadata": {},
   "source": [
    "This method formats the aquired 4-digit YYYYMM based on the project types (because we need different date-ranges given each API source)"
   ]
  },
  {
   "cell_type": "code",
   "execution_count": null,
   "metadata": {},
   "outputs": [],
   "source": [
    "def get_page_view_formatted_dates(project):\n",
    "    return get_ym_date(date_range[project]['start'], date_range[project]['end'])"
   ]
  },
  {
   "cell_type": "markdown",
   "metadata": {},
   "source": [
    "Finally at this step, we have everything to beging calling into the API endpoints and right the corresponding data to files in this format: \"apiname_accesstype_firstmonth-lastmonth.json\"\n"
   ]
  },
  {
   "cell_type": "code",
   "execution_count": null,
   "metadata": {},
   "outputs": [],
   "source": [
    "for project in projects:\n",
    "   prj = projects[project]\n",
    "   for acs in access[prj]:\n",
    "        api_call = requests.get(endpoint[projects[project]].format(**get_params(acs, date_range[prj]['start'], date_range[prj]['end'], prj)))\n",
    "        response = api_call.json()\n",
    "        #print to files with names with this format:\n",
    "        out_file_name = project + '_{}_{}_{}.json'.format(acs, get_page_view_formatted_dates(prj)['ym-start'],\n",
    "                                                          get_page_view_formatted_dates(prj)['ym-end'])\n",
    "        json.dump(response, open(out_file_name, \"w\"), indent=4\n",
    "\n",
    ")"
   ]
  }
 ],
 "metadata": {
  "kernelspec": {
   "display_name": "Python 3",
   "language": "python",
   "name": "python3"
  },
  "language_info": {
   "codemirror_mode": {
    "name": "ipython",
    "version": 2
   },
   "file_extension": ".py",
   "mimetype": "text/x-python",
   "name": "python",
   "nbconvert_exporter": "python",
   "pygments_lexer": "ipython2",
   "version": "2.7.13"
  }
 },
 "nbformat": 4,
 "nbformat_minor": 2
}
